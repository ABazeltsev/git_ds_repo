{
 "cells": [
  {
   "attachments": {},
   "cell_type": "markdown",
   "metadata": {},
   "source": [
    "Pandas.Series"
   ]
  },
  {
   "cell_type": "code",
   "execution_count": 7,
   "metadata": {},
   "outputs": [
    {
     "data": {
      "text/plain": [
       "UK       Англия\n",
       "CA       Канада\n",
       "US          США\n",
       "RU       Россия\n",
       "UA      Украина\n",
       "BY     Беларусь\n",
       "KZ    Казахстан\n",
       "Name: countries, dtype: object"
      ]
     },
     "metadata": {},
     "output_type": "display_data"
    },
    {
     "name": "stdout",
     "output_type": "stream",
     "text": [
      "Казахстан\n",
      "RU    Россия\n",
      "UK    Англия\n",
      "Name: countries, dtype: object\n",
      "Канада\n",
      "CA     Канада\n",
      "US        США\n",
      "RU     Россия\n",
      "UA    Украина\n",
      "Name: countries, dtype: object\n"
     ]
    }
   ],
   "source": [
    "import pandas as pd\n",
    "\n",
    "temp_series = pd.Series({\n",
    "    'UK': 'Англия',\n",
    "    'CA': 'Канада',\n",
    "    'US' : 'США',\n",
    "    'RU': 'Россия',\n",
    "    'UA': 'Украина',\n",
    "    'BY': 'Беларусь',\n",
    "    'KZ': 'Казахстан'},\n",
    "    name = 'countries'\n",
    ")\n",
    "display(temp_series)\n",
    "print(temp_series.loc['KZ'])\n",
    "print(temp_series.loc[['RU', 'UK']])\n",
    "print(temp_series.iloc[1])\n",
    "print(temp_series.iloc[1:5])"
   ]
  },
  {
   "attachments": {},
   "cell_type": "markdown",
   "metadata": {},
   "source": [
    "Dataframe"
   ]
  },
  {
   "cell_type": "code",
   "execution_count": 2,
   "metadata": {},
   "outputs": [
    {
     "data": {
      "text/html": [
       "<div>\n",
       "<style scoped>\n",
       "    .dataframe tbody tr th:only-of-type {\n",
       "        vertical-align: middle;\n",
       "    }\n",
       "\n",
       "    .dataframe tbody tr th {\n",
       "        vertical-align: top;\n",
       "    }\n",
       "\n",
       "    .dataframe thead th {\n",
       "        text-align: right;\n",
       "    }\n",
       "</style>\n",
       "<table border=\"1\" class=\"dataframe\">\n",
       "  <thead>\n",
       "    <tr style=\"text-align: right;\">\n",
       "      <th></th>\n",
       "      <th>country</th>\n",
       "      <th>population</th>\n",
       "      <th>square</th>\n",
       "      <th>boolean</th>\n",
       "    </tr>\n",
       "  </thead>\n",
       "  <tbody>\n",
       "    <tr>\n",
       "      <th>0</th>\n",
       "      <td>Англия</td>\n",
       "      <td>56.29</td>\n",
       "      <td>133396</td>\n",
       "      <td>0</td>\n",
       "    </tr>\n",
       "    <tr>\n",
       "      <th>1</th>\n",
       "      <td>Канада</td>\n",
       "      <td>38.05</td>\n",
       "      <td>9984670</td>\n",
       "      <td>0</td>\n",
       "    </tr>\n",
       "    <tr>\n",
       "      <th>2</th>\n",
       "      <td>США</td>\n",
       "      <td>322.28</td>\n",
       "      <td>9826630</td>\n",
       "      <td>0</td>\n",
       "    </tr>\n",
       "    <tr>\n",
       "      <th>3</th>\n",
       "      <td>Россия</td>\n",
       "      <td>146.24</td>\n",
       "      <td>17125191</td>\n",
       "      <td>0</td>\n",
       "    </tr>\n",
       "    <tr>\n",
       "      <th>4</th>\n",
       "      <td>Украина</td>\n",
       "      <td>45.50</td>\n",
       "      <td>603628</td>\n",
       "      <td>0</td>\n",
       "    </tr>\n",
       "    <tr>\n",
       "      <th>5</th>\n",
       "      <td>Беларусь</td>\n",
       "      <td>9.50</td>\n",
       "      <td>207600</td>\n",
       "      <td>0</td>\n",
       "    </tr>\n",
       "    <tr>\n",
       "      <th>6</th>\n",
       "      <td>Казахстан</td>\n",
       "      <td>17.04</td>\n",
       "      <td>2724902</td>\n",
       "      <td>1</td>\n",
       "    </tr>\n",
       "  </tbody>\n",
       "</table>\n",
       "</div>"
      ],
      "text/plain": [
       "     country  population    square  boolean\n",
       "0     Англия       56.29    133396        0\n",
       "1     Канада       38.05   9984670        0\n",
       "2        США      322.28   9826630        0\n",
       "3     Россия      146.24  17125191        0\n",
       "4    Украина       45.50    603628        0\n",
       "5   Беларусь        9.50    207600        0\n",
       "6  Казахстан       17.04   2724902        1"
      ]
     },
     "metadata": {},
     "output_type": "display_data"
    },
    {
     "data": {
      "text/html": [
       "<div>\n",
       "<style scoped>\n",
       "    .dataframe tbody tr th:only-of-type {\n",
       "        vertical-align: middle;\n",
       "    }\n",
       "\n",
       "    .dataframe tbody tr th {\n",
       "        vertical-align: top;\n",
       "    }\n",
       "\n",
       "    .dataframe thead th {\n",
       "        text-align: right;\n",
       "    }\n",
       "</style>\n",
       "<table border=\"1\" class=\"dataframe\">\n",
       "  <thead>\n",
       "    <tr style=\"text-align: right;\">\n",
       "      <th></th>\n",
       "      <th>country</th>\n",
       "      <th>population</th>\n",
       "      <th>square</th>\n",
       "    </tr>\n",
       "  </thead>\n",
       "  <tbody>\n",
       "    <tr>\n",
       "      <th>UK</th>\n",
       "      <td>Англия</td>\n",
       "      <td>56.29</td>\n",
       "      <td>133396</td>\n",
       "    </tr>\n",
       "    <tr>\n",
       "      <th>CA</th>\n",
       "      <td>Канада</td>\n",
       "      <td>38.05</td>\n",
       "      <td>9984670</td>\n",
       "    </tr>\n",
       "    <tr>\n",
       "      <th>US</th>\n",
       "      <td>США</td>\n",
       "      <td>322.28</td>\n",
       "      <td>9826630</td>\n",
       "    </tr>\n",
       "    <tr>\n",
       "      <th>RU</th>\n",
       "      <td>Россия</td>\n",
       "      <td>146.24</td>\n",
       "      <td>17125191</td>\n",
       "    </tr>\n",
       "    <tr>\n",
       "      <th>UA</th>\n",
       "      <td>Украина</td>\n",
       "      <td>45.50</td>\n",
       "      <td>603628</td>\n",
       "    </tr>\n",
       "    <tr>\n",
       "      <th>BY</th>\n",
       "      <td>Беларусь</td>\n",
       "      <td>9.50</td>\n",
       "      <td>207600</td>\n",
       "    </tr>\n",
       "    <tr>\n",
       "      <th>KZ</th>\n",
       "      <td>Казахстан</td>\n",
       "      <td>17.04</td>\n",
       "      <td>2724902</td>\n",
       "    </tr>\n",
       "  </tbody>\n",
       "</table>\n",
       "</div>"
      ],
      "text/plain": [
       "      country  population    square\n",
       "UK     Англия       56.29    133396\n",
       "CA     Канада       38.05   9984670\n",
       "US        США      322.28   9826630\n",
       "RU     Россия      146.24  17125191\n",
       "UA    Украина       45.50    603628\n",
       "BY   Беларусь        9.50    207600\n",
       "KZ  Казахстан       17.04   2724902"
      ]
     },
     "metadata": {},
     "output_type": "display_data"
    },
    {
     "name": "stderr",
     "output_type": "stream",
     "text": [
      "C:\\Users\\trnas\\AppData\\Local\\Temp\\ipykernel_17760\\3040725623.py:28: FutureWarning: The default value of numeric_only in DataFrame.mean is deprecated. In a future version, it will default to False. In addition, specifying 'numeric_only=None' is deprecated. Select only valid columns or specify the value of numeric_only to silence this warning.\n",
      "  display(countries_df_2.mean(axis=0))\n"
     ]
    },
    {
     "data": {
      "text/plain": [
       "population    9.070000e+01\n",
       "square        5.800860e+06\n",
       "dtype: float64"
      ]
     },
     "metadata": {},
     "output_type": "display_data"
    }
   ],
   "source": [
    "import pandas as pd\n",
    "\"\"\" DataFrame является двумерной структурой и представляется в виде таблицы, в которой есть строки и столбцы:\n",
    "столбцами в DataFrame выступают объекты Series, а строки формируются из их элементов.\n",
    "Также в DataFrame есть метки (индексы), которые соответствуют каждой строке таблицы. \"\"\"\n",
    "countries_df = pd.DataFrame({\n",
    "    'country': ['Англия', 'Канада', 'США', 'Россия', 'Украина', 'Беларусь', 'Казахстан'],\n",
    "    'population': [56.29, 38.05, 322.28, 146.24, 45.5, 9.5, 17.04],\n",
    "    'square': [133396, 9984670, 9826630, 17125191, 603628, 207600, 2724902],\n",
    "    'boolean':[0, 0, 0, 0, 0, 0, 1]\n",
    "}\n",
    ")\n",
    "display(countries_df)\n",
    "#-------------------------------------------------------------------------------------------------------\n",
    "countries_df_2 = pd.DataFrame(\n",
    "    data = [\n",
    "        ['Англия', 56.29, 133396], # column = data in Series\n",
    "        ['Канада', 38.05, 9984670],\n",
    "        ['США', 322.28, 9826630],\n",
    "        ['Россия', 146.24, 17125191],\n",
    "        ['Украина', 45.5, 603628],\n",
    "        ['Беларусь', 9.5, 207600],\n",
    "        ['Казахстан', 17.04, 2724902]\n",
    "    ],\n",
    "    columns= ['country', 'population', 'square'], # = name in Series\n",
    "    index = ['UK', 'CA', 'US', 'RU', 'UA', 'BY', 'KZ'] # = index in Series\n",
    ")\n",
    "display(countries_df_2)"
   ]
  },
  {
   "cell_type": "code",
   "execution_count": 8,
   "metadata": {},
   "outputs": [
    {
     "data": {
      "text/html": [
       "<div>\n",
       "<style scoped>\n",
       "    .dataframe tbody tr th:only-of-type {\n",
       "        vertical-align: middle;\n",
       "    }\n",
       "\n",
       "    .dataframe tbody tr th {\n",
       "        vertical-align: top;\n",
       "    }\n",
       "\n",
       "    .dataframe thead th {\n",
       "        text-align: right;\n",
       "    }\n",
       "</style>\n",
       "<table border=\"1\" class=\"dataframe\">\n",
       "  <thead>\n",
       "    <tr style=\"text-align: right;\">\n",
       "      <th></th>\n",
       "      <th>country</th>\n",
       "      <th>population</th>\n",
       "      <th>square</th>\n",
       "    </tr>\n",
       "  </thead>\n",
       "  <tbody>\n",
       "    <tr>\n",
       "      <th>UK</th>\n",
       "      <td>Англия</td>\n",
       "      <td>56.29</td>\n",
       "      <td>133396</td>\n",
       "    </tr>\n",
       "    <tr>\n",
       "      <th>CA</th>\n",
       "      <td>Канада</td>\n",
       "      <td>38.05</td>\n",
       "      <td>9984670</td>\n",
       "    </tr>\n",
       "    <tr>\n",
       "      <th>US</th>\n",
       "      <td>США</td>\n",
       "      <td>322.28</td>\n",
       "      <td>9826630</td>\n",
       "    </tr>\n",
       "    <tr>\n",
       "      <th>RU</th>\n",
       "      <td>Россия</td>\n",
       "      <td>146.24</td>\n",
       "      <td>17125191</td>\n",
       "    </tr>\n",
       "    <tr>\n",
       "      <th>UA</th>\n",
       "      <td>Украина</td>\n",
       "      <td>45.50</td>\n",
       "      <td>603628</td>\n",
       "    </tr>\n",
       "    <tr>\n",
       "      <th>BY</th>\n",
       "      <td>Беларусь</td>\n",
       "      <td>9.50</td>\n",
       "      <td>207600</td>\n",
       "    </tr>\n",
       "    <tr>\n",
       "      <th>KZ</th>\n",
       "      <td>Казахстан</td>\n",
       "      <td>17.04</td>\n",
       "      <td>2724902</td>\n",
       "    </tr>\n",
       "  </tbody>\n",
       "</table>\n",
       "</div>"
      ],
      "text/plain": [
       "      country  population    square\n",
       "UK     Англия       56.29    133396\n",
       "CA     Канада       38.05   9984670\n",
       "US        США      322.28   9826630\n",
       "RU     Россия      146.24  17125191\n",
       "UA    Украина       45.50    603628\n",
       "BY   Беларусь        9.50    207600\n",
       "KZ  Казахстан       17.04   2724902"
      ]
     },
     "metadata": {},
     "output_type": "display_data"
    },
    {
     "data": {
      "text/plain": [
       "322.28"
      ]
     },
     "metadata": {},
     "output_type": "display_data"
    },
    {
     "data": {
      "text/plain": [
       "UK      133396\n",
       "CA     9984670\n",
       "US     9826630\n",
       "RU    17125191\n",
       "UA      603628\n",
       "BY      207600\n",
       "KZ     2724902\n",
       "Name: square, dtype: int64"
      ]
     },
     "metadata": {},
     "output_type": "display_data"
    }
   ],
   "source": [
    "import pandas as pd\n",
    "countries_df = pd.DataFrame(\n",
    "    data = [\n",
    "        ['Англия', 56.29, 133396], # column = data in Series\n",
    "        ['Канада', 38.05, 9984670],\n",
    "        ['США', 322.28, 9826630],\n",
    "        ['Россия', 146.24, 17125191],\n",
    "        ['Украина', 45.5, 603628],\n",
    "        ['Беларусь', 9.5, 207600],\n",
    "        ['Казахстан', 17.04, 2724902]\n",
    "    ],\n",
    "    columns= ['country', 'population', 'square'], # = name in Series\n",
    "    index = ['UK', 'CA', 'US', 'RU', 'UA', 'BY', 'KZ'] # = index in Series\n",
    ")\n",
    "display(countries_df)\n",
    "display(countries_df.population['US'])\n",
    "display(countries_df['square'])\n"
   ]
  },
  {
   "cell_type": "code",
   "execution_count": null,
   "metadata": {},
   "outputs": [],
   "source": [
    "countries_df = pd.DataFrame({\n",
    "    'country': ['Англия', 'Канада', 'США', 'Россия', 'Украина', 'Беларусь', 'Казахстан'],\n",
    "    'population': [56.29, 38.05, 322.28, 146.24, 45.5, 9.5, 17.04],\n",
    "    'square': [133396, 9984670, 9826630, 17125191, 603628, 207600, 2724902]\n",
    "})\n",
    "\n",
    "countries_df.to_csv('data/countries.csv', index=False, sep=';')"
   ]
  },
  {
   "cell_type": "code",
   "execution_count": null,
   "metadata": {},
   "outputs": [],
   "source": []
  }
 ],
 "metadata": {
  "kernelspec": {
   "display_name": "Python 3",
   "language": "python",
   "name": "python3"
  },
  "language_info": {
   "codemirror_mode": {
    "name": "ipython",
    "version": 3
   },
   "file_extension": ".py",
   "mimetype": "text/x-python",
   "name": "python",
   "nbconvert_exporter": "python",
   "pygments_lexer": "ipython3",
   "version": "3.10.5"
  },
  "orig_nbformat": 4,
  "vscode": {
   "interpreter": {
    "hash": "01937d9c3b1b6d6bf6e657977236dd4afe1b34f26350feb844b856e32cdef347"
   }
  }
 },
 "nbformat": 4,
 "nbformat_minor": 2
}
