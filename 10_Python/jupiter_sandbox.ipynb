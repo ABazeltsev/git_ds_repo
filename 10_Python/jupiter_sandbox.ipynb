{
 "cells": [
  {
   "cell_type": "code",
   "execution_count": null,
   "metadata": {},
   "outputs": [],
   "source": []
  }
 ],
 "metadata": {
  "kernelspec": {
   "display_name": "Python 3",
   "language": "python",
   "name": "python3"
  },
  "language_info": {
   "name": "python",
   "version": "3.10.5"
  },
  "orig_nbformat": 4,
  "vscode": {
   "interpreter": {
    "hash": "01937d9c3b1b6d6bf6e657977236dd4afe1b34f26350feb844b856e32cdef347"
   }
  }
 },
 "nbformat": 4,
 "nbformat_minor": 2
}
